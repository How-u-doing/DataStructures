{
 "cells": [
  {
   "cell_type": "markdown",
   "id": "331c8ede-7b31-46ea-818b-144cd3c7a342",
   "metadata": {},
   "source": [
    "# Bloom Filter"
   ]
  },
  {
   "cell_type": "markdown",
   "id": "ef30a78f-b891-4df8-91a7-1ef2311c715f",
   "metadata": {},
   "source": [
    "![](https://upload.wikimedia.org/wikipedia/commons/a/ac/Bloom_filter.svg)\n",
    "\n",
    "(image stolen form [Wikipedia](https://en.wikipedia.org/wiki/Bloom_filter) :)"
   ]
  },
  {
   "cell_type": "markdown",
   "id": "dc2cb768-979d-4412-aecb-51b7fc58a506",
   "metadata": {},
   "source": [
    "## Find the False Positive Probability"
   ]
  },
  {
   "cell_type": "markdown",
   "id": "cb7d1555-1717-494e-9888-fa6f2864d160",
   "metadata": {},
   "source": [
    "Define\n",
    "$$m:=\\text{hash table size}$$\n",
    "$$n:=\\text{number of inserted items}$$\n",
    "$$k:=\\text{number of hash functions used}$$\n",
    "\n",
    "Assume each hash function has little correlation with each other (for simplicity now, albeit not accurate)."
   ]
  },
  {
   "cell_type": "markdown",
   "id": "a505753f-fb25-4523-9aec-e73bf29e849d",
   "metadata": {},
   "source": [
    "Then the probability of a certain bit (slot of the hash table) is not set (to 1) by a certain hash function is\n",
    "$$1-\\frac{1}{m}.$$\n",
    "And not set by any of the hash functions is\n",
    "$$\\left(1-\\frac{1}{m}\\right)^k.$$"
   ]
  },
  {
   "cell_type": "markdown",
   "id": "54f16b1f-42d6-4c6f-b724-ef584e5aa9ac",
   "metadata": {},
   "source": [
    "Note that\n",
    "$$\\left(1-\\frac{1}{m}\\right)^m = \\left(1-\\frac{1}{m}\\right)^{(-m)\\cdot(-1)} \\to e^{-1}\\quad (m \\to \\infty),$$\n",
    "thus\n",
    "$$\\left(1-\\frac{1}{m}\\right)^k = \\left(1-\\frac{1}{m}\\right)^{m\\cdot \\frac{k}{m}} \\approx e^{-\\frac{k}{m}}$$\n",
    "for large $m$.\n",
    "\n",
    "Therefore, after we have inserted $n$ items, the probability of a certain bit is still unset by any of the\n",
    "$k$ hash functions is approximately $e^{-kn/m}.$"
   ]
  },
  {
   "cell_type": "markdown",
   "id": "3306fd44-df85-47fe-b983-6691f300b7c7",
   "metadata": {},
   "source": [
    "Hence, the probability that it is set to 1 is\n",
    "\n",
    "$$1-\\left(1-\\frac{1}{m}\\right)^{kn} \\approx 1-e^{-kn/m},$$\n",
    "\n",
    "and the probability of all $k$ hash functions map a new (not-in-table) key to $k$ already-set bits (i.e. the false positive probability) is\n",
    "\n",
    "$$\\left[1-\\left(1-\\frac{1}{m}\\right)^{kn}\\right]^k \\approx \\left(1-e^{-kn/m}\\right)^k.$$\n"
   ]
  },
  {
   "cell_type": "markdown",
   "id": "067c5404-b782-42b3-a827-b492ede85d8b",
   "metadata": {},
   "source": [
    "## Find the Optimal Number of Hash Functions "
   ]
  },
  {
   "cell_type": "markdown",
   "id": "cc506a82-8b58-43bf-beff-4f0df102c833",
   "metadata": {},
   "source": [
    "<img src=\"img/plot1_m_over_n=5.svg\" width=\"500\"> <img src=\"img/plot2_m_over_n=10.svg\" width=\"500\"> \n",
    "\n",
    "```octave\n",
    "t = .2; k = 1:.5:10; p = (1-exp(-t*k)).^k; plot(k,p,'-o','LineWidth',1)\n",
    "```"
   ]
  },
  {
   "cell_type": "markdown",
   "id": "847c50c1-c155-487d-8da2-92f5570f1196",
   "metadata": {},
   "source": [
    "Let\n",
    "$$ L = \\ln\\left(1-e^{-kn/m}\\right)^k = k \\ln\\left(1-e^{-kn/m}\\right),$$\n",
    "and let its derivative be equal to 0\n",
    "$$ 0 = \\frac{dL}{dk} = \\ln\\left(1-e^{-kn/m}\\right) + k\\cdot n/m\\cdot \\frac{e^{-kn/m}}{1-e^{-kn/m}}. $$\n",
    "Let $ u = e^{-kn/m} $, then \n",
    "$$u\\ln u = (1-u)\\ln(1-u).$$"
   ]
  },
  {
   "cell_type": "markdown",
   "id": "e5564b35-5f9c-46af-9c90-aa70a21483c9",
   "metadata": {},
   "source": [
    "Plot it on [GeoGebra](https://www.geogebra.org/graphing?lang=en)\n",
    "\n",
    "<img src=\"img/geogebra_ulnu=(1-u)ln(1-u).svg\" width=\"500\">"
   ]
  },
  {
   "cell_type": "markdown",
   "id": "1b9a90ad-845b-4153-9547-66d02d50be84",
   "metadata": {},
   "source": [
    "Ha! $u\\ln u = (1-u)\\ln(1-u)$ is a symmetric equation (say, if we let $t=1-u$, then the equation becomes $(1-t)\\ln(1-t)=t\\ln t$),\n",
    "so we can guess $u = 1-u$ (obviously, this is one solution, but is this the only valid solution?? how can we prove it??),\n",
    "and therefore $u=\\frac{1}{2}$ (or we can see it from the above plot)."
   ]
  },
  {
   "cell_type": "markdown",
   "id": "2ccdf7e6-ed71-4953-9854-6ab2bdbc032b",
   "metadata": {},
   "source": [
    "This means \n",
    "$$e^{-kn/m} = \\frac{1}{2},$$\n",
    "\n",
    "$$k = \\frac{m}{n}\\, \\ln 2,$$\n",
    "\n",
    "which is our optimal number of hash functions (though not accurate, it is a close approximation :-)"
   ]
  }
 ],
 "metadata": {
  "kernelspec": {
   "display_name": "Python 3",
   "language": "python",
   "name": "python3"
  },
  "language_info": {
   "codemirror_mode": {
    "name": "ipython",
    "version": 3
   },
   "file_extension": ".py",
   "mimetype": "text/x-python",
   "name": "python",
   "nbconvert_exporter": "python",
   "pygments_lexer": "ipython3",
   "version": "3.8.6"
  },
  "toc-autonumbering": false,
  "toc-showcode": true,
  "toc-showmarkdowntxt": true
 },
 "nbformat": 4,
 "nbformat_minor": 5
}
