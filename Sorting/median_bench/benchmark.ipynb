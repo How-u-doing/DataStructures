{
 "cells": [
  {
   "cell_type": "code",
   "execution_count": 1,
   "metadata": {},
   "outputs": [
    {
     "name": "stdout",
     "output_type": "stream",
     "text": [
      "1\n"
     ]
    }
   ],
   "source": [
    "import os\n",
    "os.environ[\"POLARS_MAX_THREADS\"] = \"1\"\n",
    "\n",
    "import build.algos as algos\n",
    "import time\n",
    "import numpy as np\n",
    "import polars as pl\n",
    "print(pl.thread_pool_size())"
   ]
  },
  {
   "cell_type": "code",
   "execution_count": 2,
   "metadata": {},
   "outputs": [
    {
     "name": "stdout",
     "output_type": "stream",
     "text": [
      "median: 3.5\n",
      "[1.  3.5 2.5 4.  5.5]\n",
      "median: 3.5\n",
      "[1.  2.5 3.5 4.  5.5]\n"
     ]
    }
   ],
   "source": [
    "def test_median(fn):\n",
    "    arr = np.array([1.0, 3.5, 2.5, 4.0, 5.5])\n",
    "    result = fn(arr)\n",
    "    print(\"median:\", result)\n",
    "    print(arr)\n",
    "\n",
    "\n",
    "test_median(np.median)\n",
    "test_median(algos.median_sort)"
   ]
  },
  {
   "cell_type": "code",
   "execution_count": 3,
   "metadata": {},
   "outputs": [
    {
     "data": {
      "text/plain": [
       "array([191519.45037889, 622108.77103983, 437727.73900711, ...,\n",
       "       224903.00600613, 482318.49483513, 908686.57640487])"
      ]
     },
     "execution_count": 3,
     "metadata": {},
     "output_type": "execute_result"
    }
   ],
   "source": [
    "N = 100_000_000\n",
    "np.random.seed(1234)  # set seed for reproducibility\n",
    "arr = np.random.rand(N) * 1_000_000\n",
    "arr"
   ]
  },
  {
   "cell_type": "code",
   "execution_count": 4,
   "metadata": {},
   "outputs": [
    {
     "data": {
      "text/html": [
       "<div><style>\n",
       ".dataframe > thead > tr,\n",
       ".dataframe > tbody > tr {\n",
       "  text-align: right;\n",
       "  white-space: pre-wrap;\n",
       "}\n",
       "</style>\n",
       "<small>shape: (100_000_000, 1)</small><table border=\"1\" class=\"dataframe\"><thead><tr><th>x</th></tr><tr><td>f64</td></tr></thead><tbody><tr><td>191519.450379</td></tr><tr><td>622108.77104</td></tr><tr><td>437727.739007</td></tr><tr><td>785358.583714</td></tr><tr><td>779975.808119</td></tr><tr><td>&hellip;</td></tr><tr><td>726861.776622</td></tr><tr><td>460858.145885</td></tr><tr><td>224903.006006</td></tr><tr><td>482318.494835</td></tr><tr><td>908686.576405</td></tr></tbody></table></div>"
      ],
      "text/plain": [
       "shape: (100_000_000, 1)\n",
       "┌───────────────┐\n",
       "│ x             │\n",
       "│ ---           │\n",
       "│ f64           │\n",
       "╞═══════════════╡\n",
       "│ 191519.450379 │\n",
       "│ 622108.77104  │\n",
       "│ 437727.739007 │\n",
       "│ 785358.583714 │\n",
       "│ 779975.808119 │\n",
       "│ …             │\n",
       "│ 726861.776622 │\n",
       "│ 460858.145885 │\n",
       "│ 224903.006006 │\n",
       "│ 482318.494835 │\n",
       "│ 908686.576405 │\n",
       "└───────────────┘"
      ]
     },
     "execution_count": 4,
     "metadata": {},
     "output_type": "execute_result"
    }
   ],
   "source": [
    "pldf = pl.DataFrame({\"x\": arr})\n",
    "pldf"
   ]
  },
  {
   "cell_type": "code",
   "execution_count": 5,
   "metadata": {},
   "outputs": [],
   "source": [
    "def time_median(arr, fn, repeat):\n",
    "    for i in range(repeat):\n",
    "        t1 = time.time()\n",
    "        result = fn(arr)\n",
    "        print(\"time:\", time.time() - t1, \"result:\", result)\n",
    "\n",
    "\n",
    "def time_median_pl(pl_col, repeat):\n",
    "    for i in range(repeat):\n",
    "        t1 = time.time()\n",
    "        result = pl_col.median()\n",
    "        print(\"time:\", time.time() - t1, \"result:\", result)"
   ]
  },
  {
   "cell_type": "code",
   "execution_count": 6,
   "metadata": {},
   "outputs": [
    {
     "name": "stdout",
     "output_type": "stream",
     "text": [
      "time: 0.4251832962036133 result: 499978.27034853515\n",
      "time: 0.43334174156188965 result: 499978.27034853515\n",
      "time: 0.44308996200561523 result: 499978.27034853515\n",
      "time: 0.5052855014801025 result: 499978.27034853515\n",
      "time: 0.43723320960998535 result: 499978.27034853515\n",
      "time: 0.5158951282501221 result: 499978.27034853515\n",
      "time: 0.4508979320526123 result: 499978.27034853515\n"
     ]
    }
   ],
   "source": [
    "repeat = 7\n",
    "time_median_pl(pldf[\"x\"], repeat)"
   ]
  },
  {
   "cell_type": "code",
   "execution_count": 7,
   "metadata": {},
   "outputs": [
    {
     "name": "stdout",
     "output_type": "stream",
     "text": [
      "time: 0.9991464614868164 result: 499978.27034853515\n",
      "time: 0.7064235210418701 result: 499978.27034853515\n",
      "time: 0.7046847343444824 result: 499978.27034853515\n",
      "time: 0.7427153587341309 result: 499978.27034853515\n",
      "time: 0.7353174686431885 result: 499978.27034853515\n",
      "time: 0.7162046432495117 result: 499978.27034853515\n",
      "time: 0.7131748199462891 result: 499978.27034853515\n"
     ]
    }
   ],
   "source": [
    "repeat = 7\n",
    "time_median(arr, np.median, repeat)"
   ]
  },
  {
   "cell_type": "code",
   "execution_count": 8,
   "metadata": {},
   "outputs": [
    {
     "name": "stdout",
     "output_type": "stream",
     "text": [
      "time: 0.4365999698638916 result: 499978.27034853515\n",
      "time: 0.343212366104126 result: 499978.27034853515\n",
      "time: 0.3964829444885254 result: 499978.27034853515\n",
      "time: 0.3470337390899658 result: 499978.27034853515\n",
      "time: 0.35475969314575195 result: 499978.27034853515\n",
      "time: 0.34731316566467285 result: 499978.27034853515\n",
      "time: 0.34158992767333984 result: 499978.27034853515\n"
     ]
    }
   ],
   "source": [
    "repeat = 7\n",
    "time_median(arr, algos.median_select_nth_unstable_rust, repeat)"
   ]
  },
  {
   "cell_type": "code",
   "execution_count": 9,
   "metadata": {},
   "outputs": [
    {
     "name": "stdout",
     "output_type": "stream",
     "text": [
      "time: 1.0078232288360596 result: 499978.27034853515\n",
      "time: 1.0027246475219727 result: 499978.27034853515\n",
      "time: 1.0499656200408936 result: 499978.27034853515\n",
      "time: 1.0296411514282227 result: 499978.27034853515\n",
      "time: 1.0591206550598145 result: 499978.27034853515\n",
      "time: 1.092536449432373 result: 499978.27034853515\n",
      "time: 1.0868582725524902 result: 499978.27034853515\n"
     ]
    }
   ],
   "source": [
    "repeat = 7\n",
    "time_median(arr, algos.median_nth_element, repeat)"
   ]
  },
  {
   "cell_type": "code",
   "execution_count": 10,
   "metadata": {},
   "outputs": [
    {
     "name": "stdout",
     "output_type": "stream",
     "text": [
      "time: 0.844318151473999 result: 499978.27034853515\n",
      "time: 0.789970874786377 result: 499978.27034853515\n",
      "time: 0.8036441802978516 result: 499978.27034853515\n",
      "time: 0.7459836006164551 result: 499978.27034853515\n",
      "time: 0.7465386390686035 result: 499978.27034853515\n",
      "time: 0.7397961616516113 result: 499978.27034853515\n",
      "time: 0.737584114074707 result: 499978.27034853515\n"
     ]
    }
   ],
   "source": [
    "repeat = 7\n",
    "time_median(arr, algos.median_quickselect, repeat)"
   ]
  }
 ],
 "metadata": {
  "kernelspec": {
   "display_name": "Python 3",
   "language": "python",
   "name": "python3"
  },
  "language_info": {
   "codemirror_mode": {
    "name": "ipython",
    "version": 3
   },
   "file_extension": ".py",
   "mimetype": "text/x-python",
   "name": "python",
   "nbconvert_exporter": "python",
   "pygments_lexer": "ipython3",
   "version": "3.12.3"
  }
 },
 "nbformat": 4,
 "nbformat_minor": 2
}
