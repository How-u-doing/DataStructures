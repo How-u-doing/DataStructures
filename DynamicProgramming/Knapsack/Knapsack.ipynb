{
 "cells": [
  {
   "cell_type": "markdown",
   "id": "331c8ede-7b31-46ea-818b-144cd3c7a342",
   "metadata": {},
   "source": [
    "# Knapsack Problem"
   ]
  },
  {
   "cell_type": "markdown",
   "id": "2f326cda-3649-469d-90bc-45745aa6cafd",
   "metadata": {},
   "source": [
    "(Taken from [Wikipedia](https://en.wikipedia.org/wiki/Knapsack_problem), the *0-1 knapsack problem*)\n",
    "\n",
    "Given a set of $n$ items numbered from $1$ up to $n$, each with a weight $w_i$ and a value $v_i$, along with a maximum weight capacity $W$,\n",
    "\n",
    "  maximize $$ \\sum_{i=1}^{n} v_i x_i $$\n",
    "    \n",
    "  subject to $$\\sum_{i=1}^{n} w_i x_i \\leq W \\text{ and } x_i \\in \\{0,1\\}.$$"
   ]
  },
  {
   "cell_type": "markdown",
   "id": "3e19cc1c-c097-4880-ad57-bb978002308e",
   "metadata": {},
   "source": [
    "In plain words, you have a knapsack of capacity $W$ and a couple of items you wanna take. Each item has some value/significance to you, so you wanna maximize the value of the items you can take with your bag."
   ]
  },
  {
   "cell_type": "markdown",
   "id": "f10a53f8-c52c-4199-b25c-0e0c67a21244",
   "metadata": {},
   "source": [
    "# Dynamic Programming Solution"
   ]
  },
  {
   "cell_type": "markdown",
   "id": "4f81bcb5-93b8-493a-9bb2-0606fb1c7b25",
   "metadata": {},
   "source": [
    "Define \n",
    "    $$DP(i, X) := \\text{maximum value of first $i$ items with capacity $X$}.$$"
   ]
  },
  {
   "cell_type": "markdown",
   "id": "d68b7bde-5a6f-4b51-8f6d-20fb271f450f",
   "metadata": {},
   "source": [
    "So, the problem we need to solve now becomes how to compute $DP(n, W)$."
   ]
  },
  {
   "cell_type": "markdown",
   "id": "3c0ea7b7-1d18-49c6-ae45-9e02ecb9fe77",
   "metadata": {},
   "source": [
    "Not hard to see the equation"
   ]
  },
  {
   "cell_type": "markdown",
   "id": "9c4e320b-81df-44f1-ae3f-bdc0e7e59343",
   "metadata": {},
   "source": [
    "```c++\n",
    "DP(i, X) = max( DP(i-1, X),         // don't choose item i\n",
    "                DP(i-1, X-w[i]) + v[i] )  // choose item i\n",
    "```"
   ]
  },
  {
   "cell_type": "markdown",
   "id": "9ee19fd3-4aff-4f4f-ab95-70c4f884926b",
   "metadata": {},
   "source": [
    "Time = $\\Theta(n W)$, which is NOT polynomial time, but *[pseudo-polynomial time](https://en.wikipedia.org/wiki/Pseudo-polynomial_time)* (because the length of the $W$ input to the problem is proportional to the number of *bits* in $W$, $log\\,W$, not to $W$ per se)."
   ]
  },
  {
   "cell_type": "markdown",
   "id": "e0414b07-d68e-46e0-ac49-5d31f5658e3e",
   "metadata": {},
   "source": [
    "# Implementation Notes"
   ]
  },
  {
   "cell_type": "markdown",
   "id": "9fbe8059-d4a4-4239-8763-f429c734e723",
   "metadata": {},
   "source": [
    "We can actually use only two vectors ($\\Theta(W)$ space) instead of a 2D array `dp[n][W]` ($\\Theta(nW)$ space), given the equation above (by only storing the latest two rows, i.e. row `i` and `i-1`).\n",
    "\n",
    "Further, we can indeed use just one row vector `dp[W]`, noting that `DP(i, X)` is just an update of `DP(i-1, X)` with same position (array index). Thus, our equation becomes\n",
    "\n",
    "```c++\n",
    "for i from 1 to n\n",
    "    for X from W to w[i]\n",
    "        dp[X] = max(dp[X], dp[X-w[i]] + v[i])\n",
    "```"
   ]
  }
 ],
 "metadata": {
  "kernelspec": {
   "display_name": "Python 3",
   "language": "python",
   "name": "python3"
  },
  "language_info": {
   "codemirror_mode": {
    "name": "ipython",
    "version": 3
   },
   "file_extension": ".py",
   "mimetype": "text/x-python",
   "name": "python",
   "nbconvert_exporter": "python",
   "pygments_lexer": "ipython3",
   "version": "3.8.6"
  },
  "toc-autonumbering": false,
  "toc-showcode": true,
  "toc-showmarkdowntxt": true
 },
 "nbformat": 4,
 "nbformat_minor": 5
}
